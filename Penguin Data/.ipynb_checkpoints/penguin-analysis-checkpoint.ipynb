{
 "cells": [
  {
   "cell_type": "markdown",
   "metadata": {
    "_execution_state": "idle",
    "_uuid": "051d70d956493feee0c6d64651c6a088724dca2a"
   },
   "source": [
    "\n",
    "## Data Visualization with Python\n",
    "We will explore and prepare data visualization for the penguin dataset. We will explore matplot lib and different types of data visualizations.\n"
   ]
  },
  {
   "cell_type": "markdown",
   "metadata": {},
   "source": [
    "## Table of Contents\n",
    "  - [Objectives](#objectives)\n",
    "  - [Dataset](#dataset)\n",
    "  - [Summary](#summary)\n",
    "  - [Important Definitions](#important-definitions)\n",
    "  - [Importing the packages](#importing-the-packages)\n",
    "  - [Processing the data for analysis](#processing-the-data-for-analysis)\n",
    "  - [Checking the Dataset with Data Visualizations](#checking-the-dataset-with-data-visualizations)\n",
    "  - [Analysis of Culmen Length and Depth in penguins](#analysis-of-culmen-length-and-depth-in-penguins)\n",
    "  - [Relationship between culmen length and culmen depth](#relationship-between-culmen-length-and-culmen-depth)\n",
    "  - [Analysis of Flipper Length and Body Mass in penguins](#analysis-of-flipper-length-and-body-mass-in-penguins)\n",
    "  - [Analyzing of mass with respective of species](#analyzing-of-mass-with-respective-of-species)\n",
    "  - [In Summary](#in-summary)"
   ]
  },
  {
   "cell_type": "markdown",
   "metadata": {},
   "source": [
    "## Objectives\n",
    "We will do some data visualization with data analysis about the penguin dataset in kaggle.\n",
    "- Basic EDA (Exploratory Data Analysis)\n",
    "- Matplotlib (Data Visualization)"
   ]
  },
  {
   "cell_type": "markdown",
   "metadata": {},
   "source": [
    "## Dataset\n",
    "\n",
    "Here is the dataset used: [Palmer Archipelago (Antarctica) penguin data](https://www.kaggle.com/datasets/parulpandey/palmer-archipelago-antarctica-penguin-data)\n",
    "\n",
    "Palmer Archipelago (Antarctica) penguin data\n",
    "Data were collected and made available by Dr. Kristen Gorman and the Palmer Station, Antarctica LTER, a member of the Long Term Ecological Research Network.\n",
    "\n",
    "Thank you to Dr. Gorman, Palmer Station LTER and the LTER Network! Special thanks to Marty Downs (Director, LTER Network Office) for help regarding the data license & use.\n",
    "\n",
    "License & citation\n",
    "Data are available by CC-0 license in accordance with the Palmer Station LTER Data Policy and the LTER Data Access Policy for Type I data.\n",
    "\n",
    "Please cite this data using: Gorman KB, Williams TD, Fraser WR (2014) Ecological Sexual Dimorphism and Environmental Variability within a Community of Antarctic Penguins (Genus Pygoscelis). PLoS ONE 9(3): e90081. [doi:10.1371/journal.pone.0090081](doi:10.1371/journal.pone.0090081)."
   ]
  },
  {
   "cell_type": "markdown",
   "metadata": {},
   "source": [
    "## Summary\n",
    "The data folder contains two CSV files. For intro courses/examples, you probably want to use the first one (penguins_size.csv).\n",
    "- penguins_size.csv: Simplified data from original penguin data sets. Contains variables:\n",
    "- species: penguin species (Chinstrap, Adélie, or Gentoo)\n",
    "- culmen_length_mm: culmen length (mm)\n",
    "- culmen_depth_mm: culmen depth (mm)\n",
    "- flipper_length_mm: flipper length (mm)\n",
    "- body_mass_g: body mass (g)\n",
    "- island: island name (Dream, Torgersen, or Biscoe) in the Palmer Archipelago (Antarctica)\n",
    "- sex: penguin sex"
   ]
  },
  {
   "cell_type": "markdown",
   "metadata": {},
   "source": [
    "## Important Definitions\n",
    "**Python**  is a computer programming language often used to build websites and software, automate tasks, and conduct data analysis. Python is a general-purpose language, meaning it can be used to create a variety of different programs and isn't specialized for any specific problems.\n",
    "\n",
    "We will use the following packages:\n",
    "- **pandas** *is mainly used for data analysis and associated manipulation of tabular data in Dataframes.*\n",
    "- **numpy** *a Python library used for working with arrays. It also has functions for working in domain of linear algebra, fourier transform, and matrices.*\n",
    "- **seaborn** *is a library that uses Matplotlib underneath to plot graphs. It will be used to visualize random distributions.*\n",
    "- **matplotlib** *is a cross-platform, data visualization and graphical plotting library for Python and its numerical extension NumPy. As such, it offers a viable open source alternative to MATLAB.*"
   ]
  },
  {
   "cell_type": "markdown",
   "metadata": {},
   "source": [
    "## Importing the packages\n",
    "We will import all the packages that we need to load the dataset and create our visualization."
   ]
  },
  {
   "cell_type": "code",
   "execution_count": 1,
   "metadata": {
    "execution": {
     "iopub.execute_input": "2022-07-14T06:13:00.692797Z",
     "iopub.status.busy": "2022-07-14T06:13:00.692363Z",
     "iopub.status.idle": "2022-07-14T06:13:00.701118Z",
     "shell.execute_reply": "2022-07-14T06:13:00.699883Z",
     "shell.execute_reply.started": "2022-07-14T06:13:00.692763Z"
    }
   },
   "outputs": [],
   "source": [
    "import pandas as pd \n",
    "import numpy as np\n",
    "import seaborn as sns \n",
    "import matplotlib.pyplot as plt \n",
    "%matplotlib inline\n",
    "\n",
    "import warnings\n",
    "warnings.filterwarnings('ignore')"
   ]
  },
  {
   "cell_type": "markdown",
   "metadata": {},
   "source": [
    "**Pandas and numpy** for EDA, **Seaborn and matplotlib** for data viz.\n",
    "\n",
    "The **filter warnings** is just to ignore the red text boxes when running an output."
   ]
  },
  {
   "cell_type": "markdown",
   "metadata": {},
   "source": [
    "**Load the dataset**"
   ]
  },
  {
   "cell_type": "code",
   "execution_count": 3,
   "metadata": {
    "execution": {
     "iopub.execute_input": "2022-07-14T06:13:03.762372Z",
     "iopub.status.busy": "2022-07-14T06:13:03.761966Z",
     "iopub.status.idle": "2022-07-14T06:13:03.775764Z",
     "shell.execute_reply": "2022-07-14T06:13:03.774678Z",
     "shell.execute_reply.started": "2022-07-14T06:13:03.762338Z"
    }
   },
   "outputs": [
    {
     "ename": "FileNotFoundError",
     "evalue": "[Errno 2] No such file or directory: 'penguins_lter'",
     "output_type": "error",
     "traceback": [
      "\u001b[1;31m---------------------------------------------------------------------------\u001b[0m",
      "\u001b[1;31mFileNotFoundError\u001b[0m                         Traceback (most recent call last)",
      "\u001b[1;32m~\\AppData\\Local\\Temp/ipykernel_15404/2962375272.py\u001b[0m in \u001b[0;36m<module>\u001b[1;34m\u001b[0m\n\u001b[1;32m----> 1\u001b[1;33m \u001b[0mpenguin\u001b[0m \u001b[1;33m=\u001b[0m \u001b[0mpd\u001b[0m\u001b[1;33m.\u001b[0m\u001b[0mread_csv\u001b[0m\u001b[1;33m(\u001b[0m\u001b[1;34mr\"penguins_lter\"\u001b[0m\u001b[1;33m)\u001b[0m\u001b[1;33m\u001b[0m\u001b[1;33m\u001b[0m\u001b[0m\n\u001b[0m",
      "\u001b[1;32m~\\anaconda3\\lib\\site-packages\\pandas\\util\\_decorators.py\u001b[0m in \u001b[0;36mwrapper\u001b[1;34m(*args, **kwargs)\u001b[0m\n\u001b[0;32m    309\u001b[0m                     \u001b[0mstacklevel\u001b[0m\u001b[1;33m=\u001b[0m\u001b[0mstacklevel\u001b[0m\u001b[1;33m,\u001b[0m\u001b[1;33m\u001b[0m\u001b[1;33m\u001b[0m\u001b[0m\n\u001b[0;32m    310\u001b[0m                 )\n\u001b[1;32m--> 311\u001b[1;33m             \u001b[1;32mreturn\u001b[0m \u001b[0mfunc\u001b[0m\u001b[1;33m(\u001b[0m\u001b[1;33m*\u001b[0m\u001b[0margs\u001b[0m\u001b[1;33m,\u001b[0m \u001b[1;33m**\u001b[0m\u001b[0mkwargs\u001b[0m\u001b[1;33m)\u001b[0m\u001b[1;33m\u001b[0m\u001b[1;33m\u001b[0m\u001b[0m\n\u001b[0m\u001b[0;32m    312\u001b[0m \u001b[1;33m\u001b[0m\u001b[0m\n\u001b[0;32m    313\u001b[0m         \u001b[1;32mreturn\u001b[0m \u001b[0mwrapper\u001b[0m\u001b[1;33m\u001b[0m\u001b[1;33m\u001b[0m\u001b[0m\n",
      "\u001b[1;32m~\\anaconda3\\lib\\site-packages\\pandas\\io\\parsers\\readers.py\u001b[0m in \u001b[0;36mread_csv\u001b[1;34m(filepath_or_buffer, sep, delimiter, header, names, index_col, usecols, squeeze, prefix, mangle_dupe_cols, dtype, engine, converters, true_values, false_values, skipinitialspace, skiprows, skipfooter, nrows, na_values, keep_default_na, na_filter, verbose, skip_blank_lines, parse_dates, infer_datetime_format, keep_date_col, date_parser, dayfirst, cache_dates, iterator, chunksize, compression, thousands, decimal, lineterminator, quotechar, quoting, doublequote, escapechar, comment, encoding, encoding_errors, dialect, error_bad_lines, warn_bad_lines, on_bad_lines, delim_whitespace, low_memory, memory_map, float_precision, storage_options)\u001b[0m\n\u001b[0;32m    584\u001b[0m     \u001b[0mkwds\u001b[0m\u001b[1;33m.\u001b[0m\u001b[0mupdate\u001b[0m\u001b[1;33m(\u001b[0m\u001b[0mkwds_defaults\u001b[0m\u001b[1;33m)\u001b[0m\u001b[1;33m\u001b[0m\u001b[1;33m\u001b[0m\u001b[0m\n\u001b[0;32m    585\u001b[0m \u001b[1;33m\u001b[0m\u001b[0m\n\u001b[1;32m--> 586\u001b[1;33m     \u001b[1;32mreturn\u001b[0m \u001b[0m_read\u001b[0m\u001b[1;33m(\u001b[0m\u001b[0mfilepath_or_buffer\u001b[0m\u001b[1;33m,\u001b[0m \u001b[0mkwds\u001b[0m\u001b[1;33m)\u001b[0m\u001b[1;33m\u001b[0m\u001b[1;33m\u001b[0m\u001b[0m\n\u001b[0m\u001b[0;32m    587\u001b[0m \u001b[1;33m\u001b[0m\u001b[0m\n\u001b[0;32m    588\u001b[0m \u001b[1;33m\u001b[0m\u001b[0m\n",
      "\u001b[1;32m~\\anaconda3\\lib\\site-packages\\pandas\\io\\parsers\\readers.py\u001b[0m in \u001b[0;36m_read\u001b[1;34m(filepath_or_buffer, kwds)\u001b[0m\n\u001b[0;32m    480\u001b[0m \u001b[1;33m\u001b[0m\u001b[0m\n\u001b[0;32m    481\u001b[0m     \u001b[1;31m# Create the parser.\u001b[0m\u001b[1;33m\u001b[0m\u001b[1;33m\u001b[0m\u001b[0m\n\u001b[1;32m--> 482\u001b[1;33m     \u001b[0mparser\u001b[0m \u001b[1;33m=\u001b[0m \u001b[0mTextFileReader\u001b[0m\u001b[1;33m(\u001b[0m\u001b[0mfilepath_or_buffer\u001b[0m\u001b[1;33m,\u001b[0m \u001b[1;33m**\u001b[0m\u001b[0mkwds\u001b[0m\u001b[1;33m)\u001b[0m\u001b[1;33m\u001b[0m\u001b[1;33m\u001b[0m\u001b[0m\n\u001b[0m\u001b[0;32m    483\u001b[0m \u001b[1;33m\u001b[0m\u001b[0m\n\u001b[0;32m    484\u001b[0m     \u001b[1;32mif\u001b[0m \u001b[0mchunksize\u001b[0m \u001b[1;32mor\u001b[0m \u001b[0miterator\u001b[0m\u001b[1;33m:\u001b[0m\u001b[1;33m\u001b[0m\u001b[1;33m\u001b[0m\u001b[0m\n",
      "\u001b[1;32m~\\anaconda3\\lib\\site-packages\\pandas\\io\\parsers\\readers.py\u001b[0m in \u001b[0;36m__init__\u001b[1;34m(self, f, engine, **kwds)\u001b[0m\n\u001b[0;32m    809\u001b[0m             \u001b[0mself\u001b[0m\u001b[1;33m.\u001b[0m\u001b[0moptions\u001b[0m\u001b[1;33m[\u001b[0m\u001b[1;34m\"has_index_names\"\u001b[0m\u001b[1;33m]\u001b[0m \u001b[1;33m=\u001b[0m \u001b[0mkwds\u001b[0m\u001b[1;33m[\u001b[0m\u001b[1;34m\"has_index_names\"\u001b[0m\u001b[1;33m]\u001b[0m\u001b[1;33m\u001b[0m\u001b[1;33m\u001b[0m\u001b[0m\n\u001b[0;32m    810\u001b[0m \u001b[1;33m\u001b[0m\u001b[0m\n\u001b[1;32m--> 811\u001b[1;33m         \u001b[0mself\u001b[0m\u001b[1;33m.\u001b[0m\u001b[0m_engine\u001b[0m \u001b[1;33m=\u001b[0m \u001b[0mself\u001b[0m\u001b[1;33m.\u001b[0m\u001b[0m_make_engine\u001b[0m\u001b[1;33m(\u001b[0m\u001b[0mself\u001b[0m\u001b[1;33m.\u001b[0m\u001b[0mengine\u001b[0m\u001b[1;33m)\u001b[0m\u001b[1;33m\u001b[0m\u001b[1;33m\u001b[0m\u001b[0m\n\u001b[0m\u001b[0;32m    812\u001b[0m \u001b[1;33m\u001b[0m\u001b[0m\n\u001b[0;32m    813\u001b[0m     \u001b[1;32mdef\u001b[0m \u001b[0mclose\u001b[0m\u001b[1;33m(\u001b[0m\u001b[0mself\u001b[0m\u001b[1;33m)\u001b[0m\u001b[1;33m:\u001b[0m\u001b[1;33m\u001b[0m\u001b[1;33m\u001b[0m\u001b[0m\n",
      "\u001b[1;32m~\\anaconda3\\lib\\site-packages\\pandas\\io\\parsers\\readers.py\u001b[0m in \u001b[0;36m_make_engine\u001b[1;34m(self, engine)\u001b[0m\n\u001b[0;32m   1038\u001b[0m             )\n\u001b[0;32m   1039\u001b[0m         \u001b[1;31m# error: Too many arguments for \"ParserBase\"\u001b[0m\u001b[1;33m\u001b[0m\u001b[1;33m\u001b[0m\u001b[0m\n\u001b[1;32m-> 1040\u001b[1;33m         \u001b[1;32mreturn\u001b[0m \u001b[0mmapping\u001b[0m\u001b[1;33m[\u001b[0m\u001b[0mengine\u001b[0m\u001b[1;33m]\u001b[0m\u001b[1;33m(\u001b[0m\u001b[0mself\u001b[0m\u001b[1;33m.\u001b[0m\u001b[0mf\u001b[0m\u001b[1;33m,\u001b[0m \u001b[1;33m**\u001b[0m\u001b[0mself\u001b[0m\u001b[1;33m.\u001b[0m\u001b[0moptions\u001b[0m\u001b[1;33m)\u001b[0m  \u001b[1;31m# type: ignore[call-arg]\u001b[0m\u001b[1;33m\u001b[0m\u001b[1;33m\u001b[0m\u001b[0m\n\u001b[0m\u001b[0;32m   1041\u001b[0m \u001b[1;33m\u001b[0m\u001b[0m\n\u001b[0;32m   1042\u001b[0m     \u001b[1;32mdef\u001b[0m \u001b[0m_failover_to_python\u001b[0m\u001b[1;33m(\u001b[0m\u001b[0mself\u001b[0m\u001b[1;33m)\u001b[0m\u001b[1;33m:\u001b[0m\u001b[1;33m\u001b[0m\u001b[1;33m\u001b[0m\u001b[0m\n",
      "\u001b[1;32m~\\anaconda3\\lib\\site-packages\\pandas\\io\\parsers\\c_parser_wrapper.py\u001b[0m in \u001b[0;36m__init__\u001b[1;34m(self, src, **kwds)\u001b[0m\n\u001b[0;32m     49\u001b[0m \u001b[1;33m\u001b[0m\u001b[0m\n\u001b[0;32m     50\u001b[0m         \u001b[1;31m# open handles\u001b[0m\u001b[1;33m\u001b[0m\u001b[1;33m\u001b[0m\u001b[0m\n\u001b[1;32m---> 51\u001b[1;33m         \u001b[0mself\u001b[0m\u001b[1;33m.\u001b[0m\u001b[0m_open_handles\u001b[0m\u001b[1;33m(\u001b[0m\u001b[0msrc\u001b[0m\u001b[1;33m,\u001b[0m \u001b[0mkwds\u001b[0m\u001b[1;33m)\u001b[0m\u001b[1;33m\u001b[0m\u001b[1;33m\u001b[0m\u001b[0m\n\u001b[0m\u001b[0;32m     52\u001b[0m         \u001b[1;32massert\u001b[0m \u001b[0mself\u001b[0m\u001b[1;33m.\u001b[0m\u001b[0mhandles\u001b[0m \u001b[1;32mis\u001b[0m \u001b[1;32mnot\u001b[0m \u001b[1;32mNone\u001b[0m\u001b[1;33m\u001b[0m\u001b[1;33m\u001b[0m\u001b[0m\n\u001b[0;32m     53\u001b[0m \u001b[1;33m\u001b[0m\u001b[0m\n",
      "\u001b[1;32m~\\anaconda3\\lib\\site-packages\\pandas\\io\\parsers\\base_parser.py\u001b[0m in \u001b[0;36m_open_handles\u001b[1;34m(self, src, kwds)\u001b[0m\n\u001b[0;32m    220\u001b[0m         \u001b[0mLet\u001b[0m \u001b[0mthe\u001b[0m \u001b[0mreaders\u001b[0m \u001b[0mopen\u001b[0m \u001b[0mIOHandles\u001b[0m \u001b[0mafter\u001b[0m \u001b[0mthey\u001b[0m \u001b[0mare\u001b[0m \u001b[0mdone\u001b[0m \u001b[1;32mwith\u001b[0m \u001b[0mtheir\u001b[0m \u001b[0mpotential\u001b[0m \u001b[0mraises\u001b[0m\u001b[1;33m.\u001b[0m\u001b[1;33m\u001b[0m\u001b[1;33m\u001b[0m\u001b[0m\n\u001b[0;32m    221\u001b[0m         \"\"\"\n\u001b[1;32m--> 222\u001b[1;33m         self.handles = get_handle(\n\u001b[0m\u001b[0;32m    223\u001b[0m             \u001b[0msrc\u001b[0m\u001b[1;33m,\u001b[0m\u001b[1;33m\u001b[0m\u001b[1;33m\u001b[0m\u001b[0m\n\u001b[0;32m    224\u001b[0m             \u001b[1;34m\"r\"\u001b[0m\u001b[1;33m,\u001b[0m\u001b[1;33m\u001b[0m\u001b[1;33m\u001b[0m\u001b[0m\n",
      "\u001b[1;32m~\\anaconda3\\lib\\site-packages\\pandas\\io\\common.py\u001b[0m in \u001b[0;36mget_handle\u001b[1;34m(path_or_buf, mode, encoding, compression, memory_map, is_text, errors, storage_options)\u001b[0m\n\u001b[0;32m    700\u001b[0m         \u001b[1;32mif\u001b[0m \u001b[0mioargs\u001b[0m\u001b[1;33m.\u001b[0m\u001b[0mencoding\u001b[0m \u001b[1;32mand\u001b[0m \u001b[1;34m\"b\"\u001b[0m \u001b[1;32mnot\u001b[0m \u001b[1;32min\u001b[0m \u001b[0mioargs\u001b[0m\u001b[1;33m.\u001b[0m\u001b[0mmode\u001b[0m\u001b[1;33m:\u001b[0m\u001b[1;33m\u001b[0m\u001b[1;33m\u001b[0m\u001b[0m\n\u001b[0;32m    701\u001b[0m             \u001b[1;31m# Encoding\u001b[0m\u001b[1;33m\u001b[0m\u001b[1;33m\u001b[0m\u001b[0m\n\u001b[1;32m--> 702\u001b[1;33m             handle = open(\n\u001b[0m\u001b[0;32m    703\u001b[0m                 \u001b[0mhandle\u001b[0m\u001b[1;33m,\u001b[0m\u001b[1;33m\u001b[0m\u001b[1;33m\u001b[0m\u001b[0m\n\u001b[0;32m    704\u001b[0m                 \u001b[0mioargs\u001b[0m\u001b[1;33m.\u001b[0m\u001b[0mmode\u001b[0m\u001b[1;33m,\u001b[0m\u001b[1;33m\u001b[0m\u001b[1;33m\u001b[0m\u001b[0m\n",
      "\u001b[1;31mFileNotFoundError\u001b[0m: [Errno 2] No such file or directory: 'penguins_lter'"
     ]
    }
   ],
   "source": [
    "penguin = pd.read_csv(r\"penguins_lter\")"
   ]
  },
  {
   "cell_type": "markdown",
   "metadata": {},
   "source": [
    "We will have a look at the first 5 rows of the dataset."
   ]
  },
  {
   "cell_type": "code",
   "execution_count": null,
   "metadata": {
    "execution": {
     "iopub.execute_input": "2022-07-14T06:13:06.095818Z",
     "iopub.status.busy": "2022-07-14T06:13:06.095444Z",
     "iopub.status.idle": "2022-07-14T06:13:06.112085Z",
     "shell.execute_reply": "2022-07-14T06:13:06.111168Z",
     "shell.execute_reply.started": "2022-07-14T06:13:06.095785Z"
    }
   },
   "outputs": [],
   "source": [
    "penguin.head(5)"
   ]
  },
  {
   "cell_type": "markdown",
   "metadata": {},
   "source": [
    "We will have a look at the last 5 rows of the dataset."
   ]
  },
  {
   "cell_type": "code",
   "execution_count": null,
   "metadata": {
    "execution": {
     "iopub.execute_input": "2022-07-14T06:13:08.968481Z",
     "iopub.status.busy": "2022-07-14T06:13:08.967357Z",
     "iopub.status.idle": "2022-07-14T06:13:08.985571Z",
     "shell.execute_reply": "2022-07-14T06:13:08.984244Z",
     "shell.execute_reply.started": "2022-07-14T06:13:08.968439Z"
    }
   },
   "outputs": [],
   "source": [
    "penguin.tail(5)"
   ]
  },
  {
   "cell_type": "markdown",
   "metadata": {},
   "source": [
    "We can also take a look at the summary of the dataset, which includes number of rows and columns."
   ]
  },
  {
   "cell_type": "code",
   "execution_count": null,
   "metadata": {
    "execution": {
     "iopub.execute_input": "2022-07-14T06:13:11.667066Z",
     "iopub.status.busy": "2022-07-14T06:13:11.666494Z",
     "iopub.status.idle": "2022-07-14T06:13:11.675246Z",
     "shell.execute_reply": "2022-07-14T06:13:11.674405Z",
     "shell.execute_reply.started": "2022-07-14T06:13:11.667013Z"
    }
   },
   "outputs": [],
   "source": [
    "penguin.shape"
   ]
  },
  {
   "cell_type": "markdown",
   "metadata": {},
   "source": [
    "**The dataset has a total of 344 rows and 7 columns.**"
   ]
  },
  {
   "cell_type": "markdown",
   "metadata": {},
   "source": [
    "We can also take a peak at column names."
   ]
  },
  {
   "cell_type": "code",
   "execution_count": null,
   "metadata": {
    "execution": {
     "iopub.execute_input": "2022-07-14T06:13:14.451649Z",
     "iopub.status.busy": "2022-07-14T06:13:14.451252Z",
     "iopub.status.idle": "2022-07-14T06:13:14.460257Z",
     "shell.execute_reply": "2022-07-14T06:13:14.458779Z",
     "shell.execute_reply.started": "2022-07-14T06:13:14.451617Z"
    }
   },
   "outputs": [],
   "source": [
    "penguin.columns"
   ]
  },
  {
   "cell_type": "markdown",
   "metadata": {},
   "source": [
    "**The dataset consists of 7 columns.**\n",
    "\n",
    "- species: penguin species (Chinstrap, Adélie, or Gentoo)\n",
    "- island: island name (Dream, Torgersen, or Biscoe) in the Palmer Archipelago (Antarctica)\n",
    "- culmen_length_mm: culmen length (mm)\n",
    "- culmen_depth_mm: culmen depth (mm)\n",
    "- flipper_length_mm: flipper length (mm)\n",
    "- vbody_mass_g: body mass (g)\n",
    "- sex: penguin sex"
   ]
  },
  {
   "cell_type": "markdown",
   "metadata": {},
   "source": [
    "## Processing the data for analysis\n",
    "\n",
    "We will fix null values and check for datatypes."
   ]
  },
  {
   "cell_type": "markdown",
   "metadata": {},
   "source": [
    "We can also check for the datatypes, nullvalues and columns."
   ]
  },
  {
   "cell_type": "code",
   "execution_count": null,
   "metadata": {
    "execution": {
     "iopub.execute_input": "2022-07-14T06:13:18.385840Z",
     "iopub.status.busy": "2022-07-14T06:13:18.385462Z",
     "iopub.status.idle": "2022-07-14T06:13:18.401559Z",
     "shell.execute_reply": "2022-07-14T06:13:18.400613Z",
     "shell.execute_reply.started": "2022-07-14T06:13:18.385807Z"
    }
   },
   "outputs": [],
   "source": [
    "penguin.info()"
   ]
  },
  {
   "cell_type": "markdown",
   "metadata": {},
   "source": [
    "We can also check for null values in the dataset."
   ]
  },
  {
   "cell_type": "code",
   "execution_count": null,
   "metadata": {
    "execution": {
     "iopub.execute_input": "2022-07-14T06:30:56.194604Z",
     "iopub.status.busy": "2022-07-14T06:30:56.194174Z",
     "iopub.status.idle": "2022-07-14T06:30:56.206098Z",
     "shell.execute_reply": "2022-07-14T06:30:56.205069Z",
     "shell.execute_reply.started": "2022-07-14T06:30:56.194571Z"
    }
   },
   "outputs": [],
   "source": [
    "penguin.isna().sum()"
   ]
  },
  {
   "cell_type": "markdown",
   "metadata": {},
   "source": [
    "In penguin data set, there are **7 columns and 344 rows**. There are few null values present in **culmen_length_mm, culmen_depth_mm, flipper_length_mm, body_mass_g and sex** columns.\n",
    "\n",
    "Let us work on missing values and let us see what we can do with it."
   ]
  },
  {
   "cell_type": "markdown",
   "metadata": {},
   "source": [
    "We can fill in the missing values like the length and depth with the mean."
   ]
  },
  {
   "cell_type": "code",
   "execution_count": null,
   "metadata": {
    "execution": {
     "iopub.execute_input": "2022-07-14T06:30:59.275244Z",
     "iopub.status.busy": "2022-07-14T06:30:59.273930Z",
     "iopub.status.idle": "2022-07-14T06:30:59.284696Z",
     "shell.execute_reply": "2022-07-14T06:30:59.283521Z",
     "shell.execute_reply.started": "2022-07-14T06:30:59.275165Z"
    }
   },
   "outputs": [],
   "source": [
    "penguin[\"culmen_length_mm\"] = penguin[\"culmen_length_mm\"].fillna(value = penguin[\"culmen_length_mm\"].mean())\n",
    "penguin[\"culmen_depth_mm\"] = penguin[\"culmen_depth_mm\"].fillna(value = penguin[\"culmen_depth_mm\"].mean())\n",
    "penguin[\"flipper_length_mm\"] = penguin[\"flipper_length_mm\"].fillna(value = penguin[\"flipper_length_mm\"].mean())\n",
    "penguin[\"body_mass_g\"] = penguin[\"body_mass_g\"].fillna(value = penguin[\"body_mass_g\"].mean())"
   ]
  },
  {
   "cell_type": "markdown",
   "metadata": {},
   "source": [
    "There is also missing values in sex. So let's fix that too."
   ]
  },
  {
   "cell_type": "code",
   "execution_count": null,
   "metadata": {
    "execution": {
     "iopub.execute_input": "2022-07-14T06:31:01.108229Z",
     "iopub.status.busy": "2022-07-14T06:31:01.107221Z",
     "iopub.status.idle": "2022-07-14T06:31:01.125132Z",
     "shell.execute_reply": "2022-07-14T06:31:01.124283Z",
     "shell.execute_reply.started": "2022-07-14T06:31:01.108194Z"
    }
   },
   "outputs": [],
   "source": [
    "penguin['sex'] = penguin['sex'].fillna('MALE')\n",
    "penguin[penguin['sex']=='.']"
   ]
  },
  {
   "cell_type": "code",
   "execution_count": null,
   "metadata": {
    "execution": {
     "iopub.execute_input": "2022-07-14T06:31:04.215721Z",
     "iopub.status.busy": "2022-07-14T06:31:04.215277Z",
     "iopub.status.idle": "2022-07-14T06:31:04.223760Z",
     "shell.execute_reply": "2022-07-14T06:31:04.222553Z",
     "shell.execute_reply.started": "2022-07-14T06:31:04.215679Z"
    }
   },
   "outputs": [],
   "source": [
    "penguin.loc[336,'sex'] = 'MALE'"
   ]
  },
  {
   "cell_type": "markdown",
   "metadata": {},
   "source": [
    "This adds a male to the missing sex in row 336."
   ]
  },
  {
   "cell_type": "markdown",
   "metadata": {},
   "source": [
    "Let's check if there are anymore missing values."
   ]
  },
  {
   "cell_type": "code",
   "execution_count": null,
   "metadata": {
    "execution": {
     "iopub.execute_input": "2022-07-14T06:31:06.954083Z",
     "iopub.status.busy": "2022-07-14T06:31:06.953681Z",
     "iopub.status.idle": "2022-07-14T06:31:06.965330Z",
     "shell.execute_reply": "2022-07-14T06:31:06.963980Z",
     "shell.execute_reply.started": "2022-07-14T06:31:06.954050Z"
    }
   },
   "outputs": [],
   "source": [
    "penguin.isna().sum()"
   ]
  },
  {
   "cell_type": "markdown",
   "metadata": {},
   "source": [
    "**Congrats!** There are **no null values** in the data set now. So we can go ahead and **work on EDA!**"
   ]
  },
  {
   "cell_type": "markdown",
   "metadata": {},
   "source": [
    "## Checking the Dataset with Data Visualizations\n",
    "We will now do further EDA on the dataset we cleaned and processed."
   ]
  },
  {
   "cell_type": "markdown",
   "metadata": {},
   "source": [
    "Checking the dataset stats."
   ]
  },
  {
   "cell_type": "code",
   "execution_count": null,
   "metadata": {
    "execution": {
     "iopub.execute_input": "2022-07-14T06:31:10.967884Z",
     "iopub.status.busy": "2022-07-14T06:31:10.967463Z",
     "iopub.status.idle": "2022-07-14T06:31:10.997132Z",
     "shell.execute_reply": "2022-07-14T06:31:10.995654Z",
     "shell.execute_reply.started": "2022-07-14T06:31:10.967851Z"
    }
   },
   "outputs": [],
   "source": [
    "penguin.describe()"
   ]
  },
  {
   "cell_type": "markdown",
   "metadata": {},
   "source": [
    "Let's check count for each species."
   ]
  },
  {
   "cell_type": "code",
   "execution_count": null,
   "metadata": {
    "execution": {
     "iopub.execute_input": "2022-07-14T06:31:14.370334Z",
     "iopub.status.busy": "2022-07-14T06:31:14.369333Z",
     "iopub.status.idle": "2022-07-14T06:31:14.378465Z",
     "shell.execute_reply": "2022-07-14T06:31:14.377578Z",
     "shell.execute_reply.started": "2022-07-14T06:31:14.370298Z"
    }
   },
   "outputs": [],
   "source": [
    "penguin['species'].value_counts()"
   ]
  },
  {
   "cell_type": "markdown",
   "metadata": {},
   "source": [
    "The penguin dataset consists of **344 data instances**. There are **3 classes(species) - Adelie, Gentoo and Chinstrap.**"
   ]
  },
  {
   "cell_type": "markdown",
   "metadata": {},
   "source": [
    "We can make a plot for this one."
   ]
  },
  {
   "cell_type": "code",
   "execution_count": null,
   "metadata": {
    "execution": {
     "iopub.execute_input": "2022-07-14T06:31:17.611653Z",
     "iopub.status.busy": "2022-07-14T06:31:17.611242Z",
     "iopub.status.idle": "2022-07-14T06:31:17.796741Z",
     "shell.execute_reply": "2022-07-14T06:31:17.795888Z",
     "shell.execute_reply.started": "2022-07-14T06:31:17.611620Z"
    }
   },
   "outputs": [],
   "source": [
    "sns.countplot('species',data=penguin, palette=('Orange', 'Pink', 'Blue'))\n",
    "plt.show()"
   ]
  },
  {
   "cell_type": "markdown",
   "metadata": {},
   "source": [
    "The penguins dataset has different number of samples for each species. **Adelie are the highest number followed by Gentoo and Chinstrap.**"
   ]
  },
  {
   "cell_type": "markdown",
   "metadata": {},
   "source": [
    "Let's also check the island names and how many penguins are there in each island."
   ]
  },
  {
   "cell_type": "code",
   "execution_count": null,
   "metadata": {
    "execution": {
     "iopub.execute_input": "2022-07-14T06:31:22.484691Z",
     "iopub.status.busy": "2022-07-14T06:31:22.484112Z",
     "iopub.status.idle": "2022-07-14T06:31:22.494553Z",
     "shell.execute_reply": "2022-07-14T06:31:22.493175Z",
     "shell.execute_reply.started": "2022-07-14T06:31:22.484641Z"
    }
   },
   "outputs": [],
   "source": [
    "penguin['island'].value_counts()"
   ]
  },
  {
   "cell_type": "markdown",
   "metadata": {},
   "source": [
    "We can also plot a bar chart for this one."
   ]
  },
  {
   "cell_type": "code",
   "execution_count": null,
   "metadata": {
    "execution": {
     "iopub.execute_input": "2022-07-14T06:31:35.199962Z",
     "iopub.status.busy": "2022-07-14T06:31:35.199520Z",
     "iopub.status.idle": "2022-07-14T06:31:35.395916Z",
     "shell.execute_reply": "2022-07-14T06:31:35.394664Z",
     "shell.execute_reply.started": "2022-07-14T06:31:35.199927Z"
    }
   },
   "outputs": [],
   "source": [
    "sns.countplot(x = \"island\", data = penguin)"
   ]
  },
  {
   "cell_type": "markdown",
   "metadata": {},
   "source": [
    "**Most of the Penguins belong to Biscoe island and least are from Torgersen.**"
   ]
  },
  {
   "cell_type": "markdown",
   "metadata": {},
   "source": [
    "## Analysis of Culmen Length and Depth in penguins\n",
    "\n",
    "Let's find out the culmmen length and culmen depth among penguins."
   ]
  },
  {
   "cell_type": "markdown",
   "metadata": {},
   "source": [
    "First let's start with culmen length."
   ]
  },
  {
   "cell_type": "code",
   "execution_count": null,
   "metadata": {
    "execution": {
     "iopub.execute_input": "2022-07-14T06:31:41.188606Z",
     "iopub.status.busy": "2022-07-14T06:31:41.188135Z",
     "iopub.status.idle": "2022-07-14T06:31:41.793259Z",
     "shell.execute_reply": "2022-07-14T06:31:41.792141Z",
     "shell.execute_reply.started": "2022-07-14T06:31:41.188565Z"
    }
   },
   "outputs": [],
   "source": [
    "sns.catplot(x=\"sex\", y=\"culmen_length_mm\", hue=\"species\", data=penguin, kind=\"bar\", palette=('Orange', 'Pink', 'Blue'))"
   ]
  },
  {
   "cell_type": "markdown",
   "metadata": {},
   "source": [
    "**Chinstrap penguins have highest culmen length in both male and female followed by Gentoo and Adelie.**"
   ]
  },
  {
   "cell_type": "markdown",
   "metadata": {},
   "source": [
    "Then let's check out culmen depth."
   ]
  },
  {
   "cell_type": "code",
   "execution_count": null,
   "metadata": {
    "execution": {
     "iopub.execute_input": "2022-07-14T06:34:21.718122Z",
     "iopub.status.busy": "2022-07-14T06:34:21.717730Z",
     "iopub.status.idle": "2022-07-14T06:34:22.387459Z",
     "shell.execute_reply": "2022-07-14T06:34:22.386300Z",
     "shell.execute_reply.started": "2022-07-14T06:34:21.718088Z"
    }
   },
   "outputs": [],
   "source": [
    "sns.catplot(x=\"sex\", y=\"culmen_depth_mm\", hue=\"species\", data=penguin, kind=\"bar\", palette=('Orange', 'Pink', 'Blue'))"
   ]
  },
  {
   "cell_type": "markdown",
   "metadata": {},
   "source": [
    "**Chinstrap and Adelie penguins have almost same culmen depth in both male and female while Gentoo has the lowest.**"
   ]
  },
  {
   "cell_type": "markdown",
   "metadata": {},
   "source": [
    "## Relationship between culmen length and culmen depth\n",
    "\n",
    "Let us check the relationship of between the culmen_length and culmen_depth!"
   ]
  },
  {
   "cell_type": "code",
   "execution_count": null,
   "metadata": {
    "execution": {
     "iopub.execute_input": "2022-07-14T06:36:06.353715Z",
     "iopub.status.busy": "2022-07-14T06:36:06.353251Z",
     "iopub.status.idle": "2022-07-14T06:36:06.655176Z",
     "shell.execute_reply": "2022-07-14T06:36:06.653898Z",
     "shell.execute_reply.started": "2022-07-14T06:36:06.353680Z"
    }
   },
   "outputs": [],
   "source": [
    "sns.scatterplot(x = penguin.culmen_length_mm, y = penguin.culmen_depth_mm, hue = penguin.species, palette=('Orange', 'Pink', 'Blue'))"
   ]
  },
  {
   "cell_type": "markdown",
   "metadata": {},
   "source": [
    "**From the scatter plot above we can see that:**\n",
    "\n",
    "- 3 groups of species can be identified based on culmen length and depth feature\n",
    "- Each of the species culmen_length and culmen_depth fall in a certain range.\n"
   ]
  },
  {
   "cell_type": "markdown",
   "metadata": {},
   "source": [
    "## Analysis of Flipper Length and Body Mass in penguins\n",
    "\n",
    "Let's find out the Flipper Length and Body Mass among penguins."
   ]
  },
  {
   "cell_type": "code",
   "execution_count": null,
   "metadata": {
    "execution": {
     "iopub.execute_input": "2022-07-14T06:39:58.508842Z",
     "iopub.status.busy": "2022-07-14T06:39:58.508457Z",
     "iopub.status.idle": "2022-07-14T06:39:59.125671Z",
     "shell.execute_reply": "2022-07-14T06:39:59.124453Z",
     "shell.execute_reply.started": "2022-07-14T06:39:58.508809Z"
    }
   },
   "outputs": [],
   "source": [
    "sns.catplot(x=\"sex\", y=\"flipper_length_mm\", hue=\"species\", data=penguin, kind=\"bar\", palette=('Orange', 'Pink', 'Blue'))"
   ]
  },
  {
   "cell_type": "markdown",
   "metadata": {},
   "source": [
    "**Gentoo penguins have highest flipper length in both male and female.**"
   ]
  },
  {
   "cell_type": "code",
   "execution_count": null,
   "metadata": {
    "execution": {
     "iopub.execute_input": "2022-07-14T06:43:53.589731Z",
     "iopub.status.busy": "2022-07-14T06:43:53.588405Z",
     "iopub.status.idle": "2022-07-14T06:43:54.225753Z",
     "shell.execute_reply": "2022-07-14T06:43:54.224593Z",
     "shell.execute_reply.started": "2022-07-14T06:43:53.589690Z"
    }
   },
   "outputs": [],
   "source": [
    "sns.catplot(x=\"sex\", y=\"body_mass_g\", hue=\"species\", data=penguin, kind=\"bar\", palette=('Orange', 'Pink', 'Blue'))"
   ]
  },
  {
   "cell_type": "markdown",
   "metadata": {},
   "source": [
    "**Gentoo penguins have highest body weight in both male and female.**"
   ]
  },
  {
   "cell_type": "markdown",
   "metadata": {},
   "source": [
    "And lastly we will analyze the mass of the species."
   ]
  },
  {
   "cell_type": "markdown",
   "metadata": {},
   "source": [
    "## Analyzing of mass with respective of species"
   ]
  },
  {
   "cell_type": "code",
   "execution_count": null,
   "metadata": {
    "execution": {
     "iopub.execute_input": "2022-07-14T06:48:43.655696Z",
     "iopub.status.busy": "2022-07-14T06:48:43.655260Z",
     "iopub.status.idle": "2022-07-14T06:48:43.936553Z",
     "shell.execute_reply": "2022-07-14T06:48:43.935244Z",
     "shell.execute_reply.started": "2022-07-14T06:48:43.655661Z"
    }
   },
   "outputs": [],
   "source": [
    "sns.boxplot(x = penguin.sex, y = penguin.body_mass_g, hue = penguin.species, palette=('Orange', 'Pink', 'Blue'))"
   ]
  },
  {
   "cell_type": "markdown",
   "metadata": {},
   "source": [
    "**From the box plot above we can see that:**\n",
    "\n",
    "- Male penguins of all species are heavier than female penguins.\n",
    "- Gentoo penguins are heavier than Adelie and Chinstrap penguins."
   ]
  },
  {
   "cell_type": "markdown",
   "metadata": {},
   "source": [
    "## In Summary\n",
    "\n",
    "We can see that penguins may differ with their culmen length and depth and especially their body mass, let's summarize everything we found out.\n",
    "\n",
    "**Regarding the analysis of Culmen Length and Depth in penguins**\n",
    "- Chinstrap penguins have highest culmen length in both male and female followed by Gentoo and Adelie.\n",
    "- Chinstrap and Adelie penguins have almost same culmen depth in both male and female while Gentoo has the lowest.\n",
    "\n",
    "**Regarding the relationship between culmen_length and culmen_depth**\n",
    "- 3 groups of species can be identified based on culmen length and depth feature\n",
    "- Each of the species culmen_length and culmen_depth fall in a certain range.\n",
    "\n",
    "**Based on the analysis of Flipper Length and Body Mass in penguins**\n",
    "- Gentoo penguins have highest flipper length in both male and female.\n",
    "- Gentoo penguins have highest body weight in both male and female.\n",
    "\n",
    "**And lastly regarding the analysis of mass with respective of species**\n",
    "- Male penguins of all species are heavier than female penguins.\n",
    "- Gentoo penguins are heavier than Adelie and Chinstrap penguins."
   ]
  },
  {
   "cell_type": "markdown",
   "metadata": {},
   "source": [
    "## Explore our Tableau Public\n",
    "- [@TacoBadger](https://public.tableau.com/app/profile/taco.badger)\n",
    "\n",
    "## Explore our Notebook\n",
    "- [@TacoBadger](https://www.kaggle.com/code/cryptocosy/penguin-analysis)\n",
    "\n",
    "## What is Next?\n",
    "We have finished our practice! This dataset was the most interesting and fun out of all the dataset I worked with.\n",
    "- I could have also improved my analysis by adding more relationships or correlations of different values.\n",
    "- I could also practice more types of plot regarding the additional analysis.\n",
    "- I can also need to learn more advanced functions about plots for the next practice.\n",
    "Thank you for reading my kernel or repositories!"
   ]
  }
 ],
 "metadata": {
  "kernelspec": {
   "display_name": "Python 3 (ipykernel)",
   "language": "python",
   "name": "python3"
  },
  "language_info": {
   "codemirror_mode": {
    "name": "ipython",
    "version": 3
   },
   "file_extension": ".py",
   "mimetype": "text/x-python",
   "name": "python",
   "nbconvert_exporter": "python",
   "pygments_lexer": "ipython3",
   "version": "3.9.7"
  }
 },
 "nbformat": 4,
 "nbformat_minor": 4
}
