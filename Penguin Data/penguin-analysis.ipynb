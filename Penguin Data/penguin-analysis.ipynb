{
 "cells": [
  {
   "cell_type": "markdown",
   "metadata": {
    "_execution_state": "idle",
    "_uuid": "051d70d956493feee0c6d64651c6a088724dca2a"
   },
   "source": [
    "\n",
    "## Data Visualization with Python\n",
    "We will explore and prepare data visualization for the penguin dataset. We will explore matplot lib and different types of data visualizations.\n"
   ]
  },
  {
   "cell_type": "markdown",
   "metadata": {},
   "source": [
    "## Table of Contents\n",
    "  - [Objectives](##objectives)\n",
    "  - [Dataset](#dataset)\n",
    "  - [Summary](#summary)\n",
    "  - [Important Definitions](#important-definitions)\n",
    "  - [Importing the packages](#importing-the-packages)\n",
    "  - [Processing the data for analysis](#processing-the-data-for-analysis)\n",
    "  - [Checking the Dataset with Data Visualizations](#checking-the-dataset-with-data-visualizations)\n",
    "  - [Analysis of Culmen Length and Depth in penguins](#analysis-of-culmen-length-and-depth-in-penguins)\n",
    "  - [Relationship between culmen length and culmen depth](#relationship-between-culmen-length-and-culmen-depth)\n",
    "  - [Analysis of Flipper Length and Body Mass in penguins](#analysis-of-flipper-length-and-body-mass-in-penguins)\n",
    "  - [Analyzing of mass with respective of species](#analyzing-of-mass-with-respective-of-species)\n",
    "  - [In Summary](#in-summary)"
   ]
  },
  {
   "cell_type": "markdown",
   "metadata": {},
   "source": [
    "## Objectives\n",
    "We will do some data visualization with data analysis about the penguin dataset in kaggle.\n",
    "- Basic EDA (Exploratory Data Analysis)\n",
    "- Matplotlib (Data Visualization)"
   ]
  },
  {
   "cell_type": "markdown",
   "metadata": {},
   "source": [
    "## Dataset\n",
    "\n",
    "Here is the dataset used: [Palmer Archipelago (Antarctica) penguin data](https://www.kaggle.com/datasets/parulpandey/palmer-archipelago-antarctica-penguin-data)\n",
    "\n",
    "Palmer Archipelago (Antarctica) penguin data\n",
    "Data were collected and made available by Dr. Kristen Gorman and the Palmer Station, Antarctica LTER, a member of the Long Term Ecological Research Network.\n"
   ]
  },
  {
   "cell_type": "markdown",
   "metadata": {},
   "source": [
    "## Summary\n",
    "The data folder contains two CSV files. For intro courses/examples, you probably want to use the first one (penguins_size.csv).\n",
    "- penguins_size.csv: Simplified data from original penguin data sets. Contains variables:\n",
    "- species: penguin species (Chinstrap, Adélie, or Gentoo)\n",
    "- culmen_length_mm: culmen length (mm)\n",
    "- culmen_depth_mm: culmen depth (mm)\n",
    "- flipper_length_mm: flipper length (mm)\n",
    "- body_mass_g: body mass (g)\n",
    "- island: island name (Dream, Torgersen, or Biscoe) in the Palmer Archipelago (Antarctica)\n",
    "- sex: penguin sex"
   ]
  },
  {
   "cell_type": "markdown",
   "metadata": {},
   "source": [
    "## Important Definitions\n",
    "**Python**  is a computer programming language often used to build websites and software, automate tasks, and conduct data analysis. Python is a general-purpose language, meaning it can be used to create a variety of different programs and isn't specialized for any specific problems.\n",
    "\n",
    "We will use the following packages:\n",
    "- **pandas** *is mainly used for data analysis and associated manipulation of tabular data in Dataframes.*\n",
    "- **numpy** *a Python library used for working with arrays. It also has functions for working in domain of linear algebra, fourier transform, and matrices.*\n",
    "- **seaborn** *is a library that uses Matplotlib underneath to plot graphs. It will be used to visualize random distributions.*\n",
    "- **matplotlib** *is a cross-platform, data visualization and graphical plotting library for Python and its numerical extension NumPy. As such, it offers a viable open source alternative to MATLAB.*"
   ]
  },
  {
   "cell_type": "markdown",
   "metadata": {},
   "source": [
    "## Importing the packages\n",
    "We will import all the packages that we need to load the dataset and create our visualization."
   ]
  },
  {
   "cell_type": "code",
   "execution_count": 1,
   "metadata": {
    "execution": {
     "iopub.execute_input": "2022-07-14T06:13:00.692797Z",
     "iopub.status.busy": "2022-07-14T06:13:00.692363Z",
     "iopub.status.idle": "2022-07-14T06:13:00.701118Z",
     "shell.execute_reply": "2022-07-14T06:13:00.699883Z",
     "shell.execute_reply.started": "2022-07-14T06:13:00.692763Z"
    }
   },
   "outputs": [],
   "source": [
    "import pandas as pd \n",
    "import numpy as np\n",
    "import seaborn as sns \n",
    "import matplotlib.pyplot as plt \n",
    "%matplotlib inline\n",
    "\n",
    "import warnings\n",
    "warnings.filterwarnings('ignore')"
   ]
  },
  {
   "cell_type": "markdown",
   "metadata": {},
   "source": [
    "**Pandas and numpy** for EDA, **Seaborn and matplotlib** for data viz.\n",
    "\n",
    "The **filter warnings** is just to ignore the red text boxes when running an output."
   ]
  },
  {
   "cell_type": "markdown",
   "metadata": {},
   "source": [
    "**Load the dataset**"
   ]
  },
  {
   "cell_type": "code",
   "execution_count": 9,
   "metadata": {
    "execution": {
     "iopub.execute_input": "2022-07-14T06:13:03.762372Z",
     "iopub.status.busy": "2022-07-14T06:13:03.761966Z",
     "iopub.status.idle": "2022-07-14T06:13:03.775764Z",
     "shell.execute_reply": "2022-07-14T06:13:03.774678Z",
     "shell.execute_reply.started": "2022-07-14T06:13:03.762338Z"
    }
   },
   "outputs": [],
   "source": [
    "penguin = pd.read_csv(\"penguins_size.csv\")"
   ]
  },
  {
   "cell_type": "markdown",
   "metadata": {},
   "source": [
    "We will have a look at the first 5 rows of the dataset."
   ]
  },
  {
   "cell_type": "code",
   "execution_count": 10,
   "metadata": {
    "execution": {
     "iopub.execute_input": "2022-07-14T06:13:06.095818Z",
     "iopub.status.busy": "2022-07-14T06:13:06.095444Z",
     "iopub.status.idle": "2022-07-14T06:13:06.112085Z",
     "shell.execute_reply": "2022-07-14T06:13:06.111168Z",
     "shell.execute_reply.started": "2022-07-14T06:13:06.095785Z"
    }
   },
   "outputs": [
    {
     "data": {
      "text/html": [
       "<div>\n",
       "<style scoped>\n",
       "    .dataframe tbody tr th:only-of-type {\n",
       "        vertical-align: middle;\n",
       "    }\n",
       "\n",
       "    .dataframe tbody tr th {\n",
       "        vertical-align: top;\n",
       "    }\n",
       "\n",
       "    .dataframe thead th {\n",
       "        text-align: right;\n",
       "    }\n",
       "</style>\n",
       "<table border=\"1\" class=\"dataframe\">\n",
       "  <thead>\n",
       "    <tr style=\"text-align: right;\">\n",
       "      <th></th>\n",
       "      <th>species</th>\n",
       "      <th>island</th>\n",
       "      <th>culmen_length_mm</th>\n",
       "      <th>culmen_depth_mm</th>\n",
       "      <th>flipper_length_mm</th>\n",
       "      <th>body_mass_g</th>\n",
       "      <th>sex</th>\n",
       "    </tr>\n",
       "  </thead>\n",
       "  <tbody>\n",
       "    <tr>\n",
       "      <th>0</th>\n",
       "      <td>Adelie</td>\n",
       "      <td>Torgersen</td>\n",
       "      <td>39.1</td>\n",
       "      <td>18.7</td>\n",
       "      <td>181.0</td>\n",
       "      <td>3750.0</td>\n",
       "      <td>MALE</td>\n",
       "    </tr>\n",
       "    <tr>\n",
       "      <th>1</th>\n",
       "      <td>Adelie</td>\n",
       "      <td>Torgersen</td>\n",
       "      <td>39.5</td>\n",
       "      <td>17.4</td>\n",
       "      <td>186.0</td>\n",
       "      <td>3800.0</td>\n",
       "      <td>FEMALE</td>\n",
       "    </tr>\n",
       "    <tr>\n",
       "      <th>2</th>\n",
       "      <td>Adelie</td>\n",
       "      <td>Torgersen</td>\n",
       "      <td>40.3</td>\n",
       "      <td>18.0</td>\n",
       "      <td>195.0</td>\n",
       "      <td>3250.0</td>\n",
       "      <td>FEMALE</td>\n",
       "    </tr>\n",
       "    <tr>\n",
       "      <th>3</th>\n",
       "      <td>Adelie</td>\n",
       "      <td>Torgersen</td>\n",
       "      <td>NaN</td>\n",
       "      <td>NaN</td>\n",
       "      <td>NaN</td>\n",
       "      <td>NaN</td>\n",
       "      <td>NaN</td>\n",
       "    </tr>\n",
       "    <tr>\n",
       "      <th>4</th>\n",
       "      <td>Adelie</td>\n",
       "      <td>Torgersen</td>\n",
       "      <td>36.7</td>\n",
       "      <td>19.3</td>\n",
       "      <td>193.0</td>\n",
       "      <td>3450.0</td>\n",
       "      <td>FEMALE</td>\n",
       "    </tr>\n",
       "  </tbody>\n",
       "</table>\n",
       "</div>"
      ],
      "text/plain": [
       "  species     island  culmen_length_mm  culmen_depth_mm  flipper_length_mm  \\\n",
       "0  Adelie  Torgersen              39.1             18.7              181.0   \n",
       "1  Adelie  Torgersen              39.5             17.4              186.0   \n",
       "2  Adelie  Torgersen              40.3             18.0              195.0   \n",
       "3  Adelie  Torgersen               NaN              NaN                NaN   \n",
       "4  Adelie  Torgersen              36.7             19.3              193.0   \n",
       "\n",
       "   body_mass_g     sex  \n",
       "0       3750.0    MALE  \n",
       "1       3800.0  FEMALE  \n",
       "2       3250.0  FEMALE  \n",
       "3          NaN     NaN  \n",
       "4       3450.0  FEMALE  "
      ]
     },
     "execution_count": 10,
     "metadata": {},
     "output_type": "execute_result"
    }
   ],
   "source": [
    "penguin.head(5)"
   ]
  },
  {
   "cell_type": "markdown",
   "metadata": {},
   "source": [
    "We will have a look at the last 5 rows of the dataset."
   ]
  },
  {
   "cell_type": "code",
   "execution_count": 11,
   "metadata": {
    "execution": {
     "iopub.execute_input": "2022-07-14T06:13:08.968481Z",
     "iopub.status.busy": "2022-07-14T06:13:08.967357Z",
     "iopub.status.idle": "2022-07-14T06:13:08.985571Z",
     "shell.execute_reply": "2022-07-14T06:13:08.984244Z",
     "shell.execute_reply.started": "2022-07-14T06:13:08.968439Z"
    }
   },
   "outputs": [
    {
     "data": {
      "text/html": [
       "<div>\n",
       "<style scoped>\n",
       "    .dataframe tbody tr th:only-of-type {\n",
       "        vertical-align: middle;\n",
       "    }\n",
       "\n",
       "    .dataframe tbody tr th {\n",
       "        vertical-align: top;\n",
       "    }\n",
       "\n",
       "    .dataframe thead th {\n",
       "        text-align: right;\n",
       "    }\n",
       "</style>\n",
       "<table border=\"1\" class=\"dataframe\">\n",
       "  <thead>\n",
       "    <tr style=\"text-align: right;\">\n",
       "      <th></th>\n",
       "      <th>species</th>\n",
       "      <th>island</th>\n",
       "      <th>culmen_length_mm</th>\n",
       "      <th>culmen_depth_mm</th>\n",
       "      <th>flipper_length_mm</th>\n",
       "      <th>body_mass_g</th>\n",
       "      <th>sex</th>\n",
       "    </tr>\n",
       "  </thead>\n",
       "  <tbody>\n",
       "    <tr>\n",
       "      <th>339</th>\n",
       "      <td>Gentoo</td>\n",
       "      <td>Biscoe</td>\n",
       "      <td>NaN</td>\n",
       "      <td>NaN</td>\n",
       "      <td>NaN</td>\n",
       "      <td>NaN</td>\n",
       "      <td>NaN</td>\n",
       "    </tr>\n",
       "    <tr>\n",
       "      <th>340</th>\n",
       "      <td>Gentoo</td>\n",
       "      <td>Biscoe</td>\n",
       "      <td>46.8</td>\n",
       "      <td>14.3</td>\n",
       "      <td>215.0</td>\n",
       "      <td>4850.0</td>\n",
       "      <td>FEMALE</td>\n",
       "    </tr>\n",
       "    <tr>\n",
       "      <th>341</th>\n",
       "      <td>Gentoo</td>\n",
       "      <td>Biscoe</td>\n",
       "      <td>50.4</td>\n",
       "      <td>15.7</td>\n",
       "      <td>222.0</td>\n",
       "      <td>5750.0</td>\n",
       "      <td>MALE</td>\n",
       "    </tr>\n",
       "    <tr>\n",
       "      <th>342</th>\n",
       "      <td>Gentoo</td>\n",
       "      <td>Biscoe</td>\n",
       "      <td>45.2</td>\n",
       "      <td>14.8</td>\n",
       "      <td>212.0</td>\n",
       "      <td>5200.0</td>\n",
       "      <td>FEMALE</td>\n",
       "    </tr>\n",
       "    <tr>\n",
       "      <th>343</th>\n",
       "      <td>Gentoo</td>\n",
       "      <td>Biscoe</td>\n",
       "      <td>49.9</td>\n",
       "      <td>16.1</td>\n",
       "      <td>213.0</td>\n",
       "      <td>5400.0</td>\n",
       "      <td>MALE</td>\n",
       "    </tr>\n",
       "  </tbody>\n",
       "</table>\n",
       "</div>"
      ],
      "text/plain": [
       "    species  island  culmen_length_mm  culmen_depth_mm  flipper_length_mm  \\\n",
       "339  Gentoo  Biscoe               NaN              NaN                NaN   \n",
       "340  Gentoo  Biscoe              46.8             14.3              215.0   \n",
       "341  Gentoo  Biscoe              50.4             15.7              222.0   \n",
       "342  Gentoo  Biscoe              45.2             14.8              212.0   \n",
       "343  Gentoo  Biscoe              49.9             16.1              213.0   \n",
       "\n",
       "     body_mass_g     sex  \n",
       "339          NaN     NaN  \n",
       "340       4850.0  FEMALE  \n",
       "341       5750.0    MALE  \n",
       "342       5200.0  FEMALE  \n",
       "343       5400.0    MALE  "
      ]
     },
     "execution_count": 11,
     "metadata": {},
     "output_type": "execute_result"
    }
   ],
   "source": [
    "penguin.tail(5)"
   ]
  },
  {
   "cell_type": "markdown",
   "metadata": {},
   "source": [
    "We can also take a look at the summary of the dataset, which includes number of rows and columns."
   ]
  },
  {
   "cell_type": "code",
   "execution_count": 12,
   "metadata": {
    "execution": {
     "iopub.execute_input": "2022-07-14T06:13:11.667066Z",
     "iopub.status.busy": "2022-07-14T06:13:11.666494Z",
     "iopub.status.idle": "2022-07-14T06:13:11.675246Z",
     "shell.execute_reply": "2022-07-14T06:13:11.674405Z",
     "shell.execute_reply.started": "2022-07-14T06:13:11.667013Z"
    }
   },
   "outputs": [
    {
     "data": {
      "text/plain": [
       "(344, 7)"
      ]
     },
     "execution_count": 12,
     "metadata": {},
     "output_type": "execute_result"
    }
   ],
   "source": [
    "penguin.shape"
   ]
  },
  {
   "cell_type": "markdown",
   "metadata": {},
   "source": [
    "**The dataset has a total of 344 rows and 7 columns.**"
   ]
  },
  {
   "cell_type": "markdown",
   "metadata": {},
   "source": [
    "We can also take a peak at column names."
   ]
  },
  {
   "cell_type": "code",
   "execution_count": 14,
   "metadata": {
    "execution": {
     "iopub.execute_input": "2022-07-14T06:13:14.451649Z",
     "iopub.status.busy": "2022-07-14T06:13:14.451252Z",
     "iopub.status.idle": "2022-07-14T06:13:14.460257Z",
     "shell.execute_reply": "2022-07-14T06:13:14.458779Z",
     "shell.execute_reply.started": "2022-07-14T06:13:14.451617Z"
    }
   },
   "outputs": [
    {
     "data": {
      "text/plain": [
       "Index(['species', 'island', 'culmen_length_mm', 'culmen_depth_mm',\n",
       "       'flipper_length_mm', 'body_mass_g', 'sex'],\n",
       "      dtype='object')"
      ]
     },
     "execution_count": 14,
     "metadata": {},
     "output_type": "execute_result"
    }
   ],
   "source": [
    "penguin.columns"
   ]
  },
  {
   "cell_type": "markdown",
   "metadata": {},
   "source": [
    "**The dataset consists of 7 columns.**\n",
    "\n",
    "- species: penguin species (Chinstrap, Adélie, or Gentoo)\n",
    "- island: island name (Dream, Torgersen, or Biscoe) in the Palmer Archipelago (Antarctica)\n",
    "- culmen_length_mm: culmen length (mm)\n",
    "- culmen_depth_mm: culmen depth (mm)\n",
    "- flipper_length_mm: flipper length (mm)\n",
    "- vbody_mass_g: body mass (g)\n",
    "- sex: penguin sex"
   ]
  },
  {
   "cell_type": "markdown",
   "metadata": {},
   "source": [
    "## Processing the data for analysis\n",
    "\n",
    "We will fix null values and check for datatypes."
   ]
  },
  {
   "cell_type": "markdown",
   "metadata": {},
   "source": [
    "We can also check for the datatypes, nullvalues and columns."
   ]
  },
  {
   "cell_type": "code",
   "execution_count": 15,
   "metadata": {
    "execution": {
     "iopub.execute_input": "2022-07-14T06:13:18.385840Z",
     "iopub.status.busy": "2022-07-14T06:13:18.385462Z",
     "iopub.status.idle": "2022-07-14T06:13:18.401559Z",
     "shell.execute_reply": "2022-07-14T06:13:18.400613Z",
     "shell.execute_reply.started": "2022-07-14T06:13:18.385807Z"
    }
   },
   "outputs": [
    {
     "name": "stdout",
     "output_type": "stream",
     "text": [
      "<class 'pandas.core.frame.DataFrame'>\n",
      "RangeIndex: 344 entries, 0 to 343\n",
      "Data columns (total 7 columns):\n",
      " #   Column             Non-Null Count  Dtype  \n",
      "---  ------             --------------  -----  \n",
      " 0   species            344 non-null    object \n",
      " 1   island             344 non-null    object \n",
      " 2   culmen_length_mm   342 non-null    float64\n",
      " 3   culmen_depth_mm    342 non-null    float64\n",
      " 4   flipper_length_mm  342 non-null    float64\n",
      " 5   body_mass_g        342 non-null    float64\n",
      " 6   sex                334 non-null    object \n",
      "dtypes: float64(4), object(3)\n",
      "memory usage: 18.9+ KB\n"
     ]
    }
   ],
   "source": [
    "penguin.info()"
   ]
  },
  {
   "cell_type": "markdown",
   "metadata": {},
   "source": [
    "We can also check for null values in the dataset."
   ]
  },
  {
   "cell_type": "code",
   "execution_count": 16,
   "metadata": {
    "execution": {
     "iopub.execute_input": "2022-07-14T06:30:56.194604Z",
     "iopub.status.busy": "2022-07-14T06:30:56.194174Z",
     "iopub.status.idle": "2022-07-14T06:30:56.206098Z",
     "shell.execute_reply": "2022-07-14T06:30:56.205069Z",
     "shell.execute_reply.started": "2022-07-14T06:30:56.194571Z"
    }
   },
   "outputs": [
    {
     "data": {
      "text/plain": [
       "species               0\n",
       "island                0\n",
       "culmen_length_mm      2\n",
       "culmen_depth_mm       2\n",
       "flipper_length_mm     2\n",
       "body_mass_g           2\n",
       "sex                  10\n",
       "dtype: int64"
      ]
     },
     "execution_count": 16,
     "metadata": {},
     "output_type": "execute_result"
    }
   ],
   "source": [
    "penguin.isna().sum()"
   ]
  },
  {
   "cell_type": "markdown",
   "metadata": {},
   "source": [
    "In penguin data set, there are **7 columns and 344 rows**. There are few null values present in **culmen_length_mm, culmen_depth_mm, flipper_length_mm, body_mass_g and sex** columns.\n",
    "\n",
    "Let us work on missing values and let us see what we can do with it."
   ]
  },
  {
   "cell_type": "markdown",
   "metadata": {},
   "source": [
    "We can fill in the missing values like the length and depth with the mean."
   ]
  },
  {
   "cell_type": "code",
   "execution_count": 17,
   "metadata": {
    "execution": {
     "iopub.execute_input": "2022-07-14T06:30:59.275244Z",
     "iopub.status.busy": "2022-07-14T06:30:59.273930Z",
     "iopub.status.idle": "2022-07-14T06:30:59.284696Z",
     "shell.execute_reply": "2022-07-14T06:30:59.283521Z",
     "shell.execute_reply.started": "2022-07-14T06:30:59.275165Z"
    }
   },
   "outputs": [],
   "source": [
    "penguin[\"culmen_length_mm\"] = penguin[\"culmen_length_mm\"].fillna(value = penguin[\"culmen_length_mm\"].mean())\n",
    "penguin[\"culmen_depth_mm\"] = penguin[\"culmen_depth_mm\"].fillna(value = penguin[\"culmen_depth_mm\"].mean())\n",
    "penguin[\"flipper_length_mm\"] = penguin[\"flipper_length_mm\"].fillna(value = penguin[\"flipper_length_mm\"].mean())\n",
    "penguin[\"body_mass_g\"] = penguin[\"body_mass_g\"].fillna(value = penguin[\"body_mass_g\"].mean())"
   ]
  },
  {
   "cell_type": "markdown",
   "metadata": {},
   "source": [
    "There is also missing values in sex. So let's fix that too."
   ]
  },
  {
   "cell_type": "code",
   "execution_count": 18,
   "metadata": {
    "execution": {
     "iopub.execute_input": "2022-07-14T06:31:01.108229Z",
     "iopub.status.busy": "2022-07-14T06:31:01.107221Z",
     "iopub.status.idle": "2022-07-14T06:31:01.125132Z",
     "shell.execute_reply": "2022-07-14T06:31:01.124283Z",
     "shell.execute_reply.started": "2022-07-14T06:31:01.108194Z"
    }
   },
   "outputs": [
    {
     "data": {
      "text/html": [
       "<div>\n",
       "<style scoped>\n",
       "    .dataframe tbody tr th:only-of-type {\n",
       "        vertical-align: middle;\n",
       "    }\n",
       "\n",
       "    .dataframe tbody tr th {\n",
       "        vertical-align: top;\n",
       "    }\n",
       "\n",
       "    .dataframe thead th {\n",
       "        text-align: right;\n",
       "    }\n",
       "</style>\n",
       "<table border=\"1\" class=\"dataframe\">\n",
       "  <thead>\n",
       "    <tr style=\"text-align: right;\">\n",
       "      <th></th>\n",
       "      <th>species</th>\n",
       "      <th>island</th>\n",
       "      <th>culmen_length_mm</th>\n",
       "      <th>culmen_depth_mm</th>\n",
       "      <th>flipper_length_mm</th>\n",
       "      <th>body_mass_g</th>\n",
       "      <th>sex</th>\n",
       "    </tr>\n",
       "  </thead>\n",
       "  <tbody>\n",
       "    <tr>\n",
       "      <th>336</th>\n",
       "      <td>Gentoo</td>\n",
       "      <td>Biscoe</td>\n",
       "      <td>44.5</td>\n",
       "      <td>15.7</td>\n",
       "      <td>217.0</td>\n",
       "      <td>4875.0</td>\n",
       "      <td>.</td>\n",
       "    </tr>\n",
       "  </tbody>\n",
       "</table>\n",
       "</div>"
      ],
      "text/plain": [
       "    species  island  culmen_length_mm  culmen_depth_mm  flipper_length_mm  \\\n",
       "336  Gentoo  Biscoe              44.5             15.7              217.0   \n",
       "\n",
       "     body_mass_g sex  \n",
       "336       4875.0   .  "
      ]
     },
     "execution_count": 18,
     "metadata": {},
     "output_type": "execute_result"
    }
   ],
   "source": [
    "penguin['sex'] = penguin['sex'].fillna('MALE')\n",
    "penguin[penguin['sex']=='.']"
   ]
  },
  {
   "cell_type": "code",
   "execution_count": 19,
   "metadata": {
    "execution": {
     "iopub.execute_input": "2022-07-14T06:31:04.215721Z",
     "iopub.status.busy": "2022-07-14T06:31:04.215277Z",
     "iopub.status.idle": "2022-07-14T06:31:04.223760Z",
     "shell.execute_reply": "2022-07-14T06:31:04.222553Z",
     "shell.execute_reply.started": "2022-07-14T06:31:04.215679Z"
    }
   },
   "outputs": [],
   "source": [
    "penguin.loc[336,'sex'] = 'MALE'"
   ]
  },
  {
   "cell_type": "markdown",
   "metadata": {},
   "source": [
    "This adds a male to the missing sex in row 336."
   ]
  },
  {
   "cell_type": "markdown",
   "metadata": {},
   "source": [
    "Let's check if there are anymore missing values."
   ]
  },
  {
   "cell_type": "code",
   "execution_count": 20,
   "metadata": {
    "execution": {
     "iopub.execute_input": "2022-07-14T06:31:06.954083Z",
     "iopub.status.busy": "2022-07-14T06:31:06.953681Z",
     "iopub.status.idle": "2022-07-14T06:31:06.965330Z",
     "shell.execute_reply": "2022-07-14T06:31:06.963980Z",
     "shell.execute_reply.started": "2022-07-14T06:31:06.954050Z"
    }
   },
   "outputs": [
    {
     "data": {
      "text/plain": [
       "species              0\n",
       "island               0\n",
       "culmen_length_mm     0\n",
       "culmen_depth_mm      0\n",
       "flipper_length_mm    0\n",
       "body_mass_g          0\n",
       "sex                  0\n",
       "dtype: int64"
      ]
     },
     "execution_count": 20,
     "metadata": {},
     "output_type": "execute_result"
    }
   ],
   "source": [
    "penguin.isna().sum()"
   ]
  },
  {
   "cell_type": "markdown",
   "metadata": {},
   "source": [
    "**Congrats!** There are **no null values** in the data set now. So we can go ahead and **work on EDA!**"
   ]
  },
  {
   "cell_type": "markdown",
   "metadata": {},
   "source": [
    "## Checking the Dataset with Data Visualizations\n",
    "We will now do further EDA on the dataset we cleaned and processed."
   ]
  },
  {
   "cell_type": "markdown",
   "metadata": {},
   "source": [
    "Checking the dataset stats."
   ]
  },
  {
   "cell_type": "code",
   "execution_count": 21,
   "metadata": {
    "execution": {
     "iopub.execute_input": "2022-07-14T06:31:10.967884Z",
     "iopub.status.busy": "2022-07-14T06:31:10.967463Z",
     "iopub.status.idle": "2022-07-14T06:31:10.997132Z",
     "shell.execute_reply": "2022-07-14T06:31:10.995654Z",
     "shell.execute_reply.started": "2022-07-14T06:31:10.967851Z"
    }
   },
   "outputs": [
    {
     "data": {
      "text/html": [
       "<div>\n",
       "<style scoped>\n",
       "    .dataframe tbody tr th:only-of-type {\n",
       "        vertical-align: middle;\n",
       "    }\n",
       "\n",
       "    .dataframe tbody tr th {\n",
       "        vertical-align: top;\n",
       "    }\n",
       "\n",
       "    .dataframe thead th {\n",
       "        text-align: right;\n",
       "    }\n",
       "</style>\n",
       "<table border=\"1\" class=\"dataframe\">\n",
       "  <thead>\n",
       "    <tr style=\"text-align: right;\">\n",
       "      <th></th>\n",
       "      <th>culmen_length_mm</th>\n",
       "      <th>culmen_depth_mm</th>\n",
       "      <th>flipper_length_mm</th>\n",
       "      <th>body_mass_g</th>\n",
       "    </tr>\n",
       "  </thead>\n",
       "  <tbody>\n",
       "    <tr>\n",
       "      <th>count</th>\n",
       "      <td>344.000000</td>\n",
       "      <td>344.000000</td>\n",
       "      <td>344.000000</td>\n",
       "      <td>344.000000</td>\n",
       "    </tr>\n",
       "    <tr>\n",
       "      <th>mean</th>\n",
       "      <td>43.921930</td>\n",
       "      <td>17.151170</td>\n",
       "      <td>200.915205</td>\n",
       "      <td>4201.754386</td>\n",
       "    </tr>\n",
       "    <tr>\n",
       "      <th>std</th>\n",
       "      <td>5.443643</td>\n",
       "      <td>1.969027</td>\n",
       "      <td>14.020657</td>\n",
       "      <td>799.613058</td>\n",
       "    </tr>\n",
       "    <tr>\n",
       "      <th>min</th>\n",
       "      <td>32.100000</td>\n",
       "      <td>13.100000</td>\n",
       "      <td>172.000000</td>\n",
       "      <td>2700.000000</td>\n",
       "    </tr>\n",
       "    <tr>\n",
       "      <th>25%</th>\n",
       "      <td>39.275000</td>\n",
       "      <td>15.600000</td>\n",
       "      <td>190.000000</td>\n",
       "      <td>3550.000000</td>\n",
       "    </tr>\n",
       "    <tr>\n",
       "      <th>50%</th>\n",
       "      <td>44.250000</td>\n",
       "      <td>17.300000</td>\n",
       "      <td>197.000000</td>\n",
       "      <td>4050.000000</td>\n",
       "    </tr>\n",
       "    <tr>\n",
       "      <th>75%</th>\n",
       "      <td>48.500000</td>\n",
       "      <td>18.700000</td>\n",
       "      <td>213.000000</td>\n",
       "      <td>4750.000000</td>\n",
       "    </tr>\n",
       "    <tr>\n",
       "      <th>max</th>\n",
       "      <td>59.600000</td>\n",
       "      <td>21.500000</td>\n",
       "      <td>231.000000</td>\n",
       "      <td>6300.000000</td>\n",
       "    </tr>\n",
       "  </tbody>\n",
       "</table>\n",
       "</div>"
      ],
      "text/plain": [
       "       culmen_length_mm  culmen_depth_mm  flipper_length_mm  body_mass_g\n",
       "count        344.000000       344.000000         344.000000   344.000000\n",
       "mean          43.921930        17.151170         200.915205  4201.754386\n",
       "std            5.443643         1.969027          14.020657   799.613058\n",
       "min           32.100000        13.100000         172.000000  2700.000000\n",
       "25%           39.275000        15.600000         190.000000  3550.000000\n",
       "50%           44.250000        17.300000         197.000000  4050.000000\n",
       "75%           48.500000        18.700000         213.000000  4750.000000\n",
       "max           59.600000        21.500000         231.000000  6300.000000"
      ]
     },
     "execution_count": 21,
     "metadata": {},
     "output_type": "execute_result"
    }
   ],
   "source": [
    "penguin.describe()"
   ]
  },
  {
   "cell_type": "markdown",
   "metadata": {},
   "source": [
    "Let's check count for each species."
   ]
  },
  {
   "cell_type": "code",
   "execution_count": 22,
   "metadata": {
    "execution": {
     "iopub.execute_input": "2022-07-14T06:31:14.370334Z",
     "iopub.status.busy": "2022-07-14T06:31:14.369333Z",
     "iopub.status.idle": "2022-07-14T06:31:14.378465Z",
     "shell.execute_reply": "2022-07-14T06:31:14.377578Z",
     "shell.execute_reply.started": "2022-07-14T06:31:14.370298Z"
    }
   },
   "outputs": [
    {
     "data": {
      "text/plain": [
       "Adelie       152\n",
       "Gentoo       124\n",
       "Chinstrap     68\n",
       "Name: species, dtype: int64"
      ]
     },
     "execution_count": 22,
     "metadata": {},
     "output_type": "execute_result"
    }
   ],
   "source": [
    "penguin['species'].value_counts()"
   ]
  },
  {
   "cell_type": "markdown",
   "metadata": {},
   "source": [
    "The penguin dataset consists of **344 data instances**. There are **3 classes(species) - Adelie, Gentoo and Chinstrap.**"
   ]
  },
  {
   "cell_type": "markdown",
   "metadata": {},
   "source": [
    "We can make a plot for this one."
   ]
  },
  {
   "cell_type": "code",
   "execution_count": 23,
   "metadata": {
    "execution": {
     "iopub.execute_input": "2022-07-14T06:31:17.611653Z",
     "iopub.status.busy": "2022-07-14T06:31:17.611242Z",
     "iopub.status.idle": "2022-07-14T06:31:17.796741Z",
     "shell.execute_reply": "2022-07-14T06:31:17.795888Z",
     "shell.execute_reply.started": "2022-07-14T06:31:17.611620Z"
    }
   },
   "outputs": [
    {
     "data": {
      "image/png": "[encoded data removed]",
      "text/plain": [
       "<Figure size 432x288 with 1 Axes>"
      ]
     },
     "metadata": {
      "needs_background": "light"
     },
     "output_type": "display_data"
    }
   ],
   "source": [
    "sns.countplot('species',data=penguin, palette=('Orange', 'Pink', 'Blue'))\n",
    "plt.show()"
   ]
  },
  {
   "cell_type": "markdown",
   "metadata": {},
   "source": [
    "The penguins dataset has different number of samples for each species. **Adelie are the highest number followed by Gentoo and Chinstrap.**"
   ]
  },
  {
   "cell_type": "markdown",
   "metadata": {},
   "source": [
    "Let's also check the island names and how many penguins are there in each island."
   ]
  },
  {
   "cell_type": "code",
   "execution_count": 24,
   "metadata": {
    "execution": {
     "iopub.execute_input": "2022-07-14T06:31:22.484691Z",
     "iopub.status.busy": "2022-07-14T06:31:22.484112Z",
     "iopub.status.idle": "2022-07-14T06:31:22.494553Z",
     "shell.execute_reply": "2022-07-14T06:31:22.493175Z",
     "shell.execute_reply.started": "2022-07-14T06:31:22.484641Z"
    }
   },
   "outputs": [
    {
     "data": {
      "text/plain": [
       "Biscoe       168\n",
       "Dream        124\n",
       "Torgersen     52\n",
       "Name: island, dtype: int64"
      ]
     },
     "execution_count": 24,
     "metadata": {},
     "output_type": "execute_result"
    }
   ],
   "source": [
    "penguin['island'].value_counts()"
   ]
  },
  {
   "cell_type": "markdown",
   "metadata": {},
   "source": [
    "We can also plot a bar chart for this one."
   ]
  },
  {
   "cell_type": "code",
   "execution_count": 25,
   "metadata": {
    "execution": {
     "iopub.execute_input": "2022-07-14T06:31:35.199962Z",
     "iopub.status.busy": "2022-07-14T06:31:35.199520Z",
     "iopub.status.idle": "2022-07-14T06:31:35.395916Z",
     "shell.execute_reply": "2022-07-14T06:31:35.394664Z",
     "shell.execute_reply.started": "2022-07-14T06:31:35.199927Z"
    }
   },
   "outputs": [
    {
     "data": {
      "text/plain": [
       "<AxesSubplot:xlabel='island', ylabel='count'>"
      ]
     },
     "execution_count": 25,
     "metadata": {},
     "output_type": "execute_result"
    },
    {
     "data": {
      "image/png": "[encoded data removed]",
      "text/plain": [
       "<Figure size 432x288 with 1 Axes>"
      ]
     },
     "metadata": {
      "needs_background": "light"
     },
     "output_type": "display_data"
    }
   ],
   "source": [
    "sns.countplot(x = \"island\", data = penguin)"
   ]
  },
  {
   "cell_type": "markdown",
   "metadata": {},
   "source": [
    "**Most of the Penguins belong to Biscoe island and least are from Torgersen.**"
   ]
  },
  {
   "cell_type": "markdown",
   "metadata": {},
   "source": [
    "## Analysis of Culmen Length and Depth in penguins\n",
    "\n",
    "Let's find out the culmmen length and culmen depth among penguins."
   ]
  },
  {
   "cell_type": "markdown",
   "metadata": {},
   "source": [
    "First let's start with culmen length."
   ]
  },
  {
   "cell_type": "code",
   "execution_count": 26,
   "metadata": {
    "execution": {
     "iopub.execute_input": "2022-07-14T06:31:41.188606Z",
     "iopub.status.busy": "2022-07-14T06:31:41.188135Z",
     "iopub.status.idle": "2022-07-14T06:31:41.793259Z",
     "shell.execute_reply": "2022-07-14T06:31:41.792141Z",
     "shell.execute_reply.started": "2022-07-14T06:31:41.188565Z"
    }
   },
   "outputs": [
    {
     "data": {
      "text/plain": [
       "<seaborn.axisgrid.FacetGrid at 0x21970b48e80>"
      ]
     },
     "execution_count": 26,
     "metadata": {},
     "output_type": "execute_result"
    },
    {
     "data": {
      "image/png": "[encoded data removed]",
      "text/plain": [
       "<Figure size 444.125x360 with 1 Axes>"
      ]
     },
     "metadata": {
      "needs_background": "light"
     },
     "output_type": "display_data"
    }
   ],
   "source": [
    "sns.catplot(x=\"sex\", y=\"culmen_length_mm\", hue=\"species\", data=penguin, kind=\"bar\", palette=('Orange', 'Pink', 'Blue'))"
   ]
  },
  {
   "cell_type": "markdown",
   "metadata": {},
   "source": [
    "**Chinstrap penguins have highest culmen length in both male and female followed by Gentoo and Adelie.**"
   ]
  },
  {
   "cell_type": "markdown",
   "metadata": {},
   "source": [
    "Then let's check out culmen depth."
   ]
  },
  {
   "cell_type": "code",
   "execution_count": 27,
   "metadata": {
    "execution": {
     "iopub.execute_input": "2022-07-14T06:34:21.718122Z",
     "iopub.status.busy": "2022-07-14T06:34:21.717730Z",
     "iopub.status.idle": "2022-07-14T06:34:22.387459Z",
     "shell.execute_reply": "2022-07-14T06:34:22.386300Z",
     "shell.execute_reply.started": "2022-07-14T06:34:21.718088Z"
    }
   },
   "outputs": [
    {
     "data": {
      "text/plain": [
       "<seaborn.axisgrid.FacetGrid at 0x2197165f580>"
      ]
     },
     "execution_count": 27,
     "metadata": {},
     "output_type": "execute_result"
    },
    {
     "data": {
      "image/png": "[encoded data removed]",
      "text/plain": [
       "<Figure size 444.125x360 with 1 Axes>"
      ]
     },
     "metadata": {
      "needs_background": "light"
     },
     "output_type": "display_data"
    }
   ],
   "source": [
    "sns.catplot(x=\"sex\", y=\"culmen_depth_mm\", hue=\"species\", data=penguin, kind=\"bar\", palette=('Orange', 'Pink', 'Blue'))"
   ]
  },
  {
   "cell_type": "markdown",
   "metadata": {},
   "source": [
    "**Chinstrap and Adelie penguins have almost same culmen depth in both male and female while Gentoo has the lowest.**"
   ]
  },
  {
   "cell_type": "markdown",
   "metadata": {},
   "source": [
    "## Relationship between culmen length and culmen depth\n",
    "\n",
    "Let us check the relationship of between the culmen_length and culmen_depth!"
   ]
  },
  {
   "cell_type": "code",
   "execution_count": 28,
   "metadata": {
    "execution": {
     "iopub.execute_input": "2022-07-14T06:36:06.353715Z",
     "iopub.status.busy": "2022-07-14T06:36:06.353251Z",
     "iopub.status.idle": "2022-07-14T06:36:06.655176Z",
     "shell.execute_reply": "2022-07-14T06:36:06.653898Z",
     "shell.execute_reply.started": "2022-07-14T06:36:06.353680Z"
    }
   },
   "outputs": [
    {
     "data": {
      "text/plain": [
       "<AxesSubplot:xlabel='culmen_length_mm', ylabel='culmen_depth_mm'>"
      ]
     },
     "execution_count": 28,
     "metadata": {},
     "output_type": "execute_result"
    },
    {
     "data": {
      "image/png": "[encoded data removed]",
      "text/plain": [
       "<Figure size 432x288 with 1 Axes>"
      ]
     },
     "metadata": {
      "needs_background": "light"
     },
     "output_type": "display_data"
    }
   ],
   "source": [
    "sns.scatterplot(x = penguin.culmen_length_mm, y = penguin.culmen_depth_mm, hue = penguin.species, palette=('Orange', 'Pink', 'Blue'))"
   ]
  },
  {
   "cell_type": "markdown",
   "metadata": {},
   "source": [
    "**From the scatter plot above we can see that:**\n",
    "\n",
    "- 3 groups of species can be identified based on culmen length and depth feature\n",
    "- Each of the species culmen_length and culmen_depth fall in a certain range.\n"
   ]
  },
  {
   "cell_type": "markdown",
   "metadata": {},
   "source": [
    "## Analysis of Flipper Length and Body Mass in penguins\n",
    "\n",
    "Let's find out the Flipper Length and Body Mass among penguins."
   ]
  },
  {
   "cell_type": "code",
   "execution_count": 29,
   "metadata": {
    "execution": {
     "iopub.execute_input": "2022-07-14T06:39:58.508842Z",
     "iopub.status.busy": "2022-07-14T06:39:58.508457Z",
     "iopub.status.idle": "2022-07-14T06:39:59.125671Z",
     "shell.execute_reply": "2022-07-14T06:39:59.124453Z",
     "shell.execute_reply.started": "2022-07-14T06:39:58.508809Z"
    }
   },
   "outputs": [
    {
     "data": {
      "text/plain": [
       "<seaborn.axisgrid.FacetGrid at 0x219716df130>"
      ]
     },
     "execution_count": 29,
     "metadata": {},
     "output_type": "execute_result"
    },
    {
     "data": {
      "image/png": "[encoded data removed]",
      "text/plain": [
       "<Figure size 444.125x360 with 1 Axes>"
      ]
     },
     "metadata": {
      "needs_background": "light"
     },
     "output_type": "display_data"
    }
   ],
   "source": [
    "sns.catplot(x=\"sex\", y=\"flipper_length_mm\", hue=\"species\", data=penguin, kind=\"bar\", palette=('Orange', 'Pink', 'Blue'))"
   ]
  },
  {
   "cell_type": "markdown",
   "metadata": {},
   "source": [
    "**Gentoo penguins have highest flipper length in both male and female.**"
   ]
  },
  {
   "cell_type": "code",
   "execution_count": 30,
   "metadata": {
    "execution": {
     "iopub.execute_input": "2022-07-14T06:43:53.589731Z",
     "iopub.status.busy": "2022-07-14T06:43:53.588405Z",
     "iopub.status.idle": "2022-07-14T06:43:54.225753Z",
     "shell.execute_reply": "2022-07-14T06:43:54.224593Z",
     "shell.execute_reply.started": "2022-07-14T06:43:53.589690Z"
    }
   },
   "outputs": [
    {
     "data": {
      "text/plain": [
       "<seaborn.axisgrid.FacetGrid at 0x2197177cb20>"
      ]
     },
     "execution_count": 30,
     "metadata": {},
     "output_type": "execute_result"
    },
    {
     "data": {
      "image/png": "[encoded data removed]",
      "text/plain": [
       "<Figure size 444.125x360 with 1 Axes>"
      ]
     },
     "metadata": {
      "needs_background": "light"
     },
     "output_type": "display_data"
    }
   ],
   "source": [
    "sns.catplot(x=\"sex\", y=\"body_mass_g\", hue=\"species\", data=penguin, kind=\"bar\", palette=('Orange', 'Pink', 'Blue'))"
   ]
  },
  {
   "cell_type": "markdown",
   "metadata": {},
   "source": [
    "**Gentoo penguins have highest body weight in both male and female.**"
   ]
  },
  {
   "cell_type": "markdown",
   "metadata": {},
   "source": [
    "And lastly we will analyze the mass of the species."
   ]
  },
  {
   "cell_type": "markdown",
   "metadata": {},
   "source": [
    "## Analyzing of mass with respective of species"
   ]
  },
  {
   "cell_type": "code",
   "execution_count": 31,
   "metadata": {
    "execution": {
     "iopub.execute_input": "2022-07-14T06:48:43.655696Z",
     "iopub.status.busy": "2022-07-14T06:48:43.655260Z",
     "iopub.status.idle": "2022-07-14T06:48:43.936553Z",
     "shell.execute_reply": "2022-07-14T06:48:43.935244Z",
     "shell.execute_reply.started": "2022-07-14T06:48:43.655661Z"
    }
   },
   "outputs": [
    {
     "data": {
      "text/plain": [
       "<AxesSubplot:xlabel='sex', ylabel='body_mass_g'>"
      ]
     },
     "execution_count": 31,
     "metadata": {},
     "output_type": "execute_result"
    },
    {
     "data": {
      "image/png": "[encoded data removed]",
      "text/plain": [
       "<Figure size 432x288 with 1 Axes>"
      ]
     },
     "metadata": {
      "needs_background": "light"
     },
     "output_type": "display_data"
    }
   ],
   "source": [
    "sns.boxplot(x = penguin.sex, y = penguin.body_mass_g, hue = penguin.species, palette=('Orange', 'Pink', 'Blue'))"
   ]
  },
  {
   "cell_type": "markdown",
   "metadata": {},
   "source": [
    "**From the box plot above we can see that:**\n",
    "\n",
    "- Male penguins of all species are heavier than female penguins.\n",
    "- Gentoo penguins are heavier than Adelie and Chinstrap penguins."
   ]
  },
  {
   "cell_type": "markdown",
   "metadata": {},
   "source": [
    "## In Summary\n",
    "\n",
    "We can see that penguins may differ with their culmen length and depth and especially their body mass, let's summarize everything we found out.\n",
    "\n",
    "**Regarding the analysis of Culmen Length and Depth in penguins**\n",
    "- Chinstrap penguins have highest culmen length in both male and female followed by Gentoo and Adelie.\n",
    "- Chinstrap and Adelie penguins have almost same culmen depth in both male and female while Gentoo has the lowest.\n",
    "\n",
    "**Regarding the relationship between culmen_length and culmen_depth**\n",
    "- 3 groups of species can be identified based on culmen length and depth feature\n",
    "- Each of the species culmen_length and culmen_depth fall in a certain range.\n",
    "\n",
    "**Based on the analysis of Flipper Length and Body Mass in penguins**\n",
    "- Gentoo penguins have highest flipper length in both male and female.\n",
    "- Gentoo penguins have highest body weight in both male and female.\n",
    "\n",
    "**And lastly regarding the analysis of mass with respective of species**\n",
    "- Male penguins of all species are heavier than female penguins.\n",
    "- Gentoo penguins are heavier than Adelie and Chinstrap penguins."
   ]
  }
 ],
 "metadata": {
  "kernelspec": {
   "display_name": "Python 3 (ipykernel)",
   "language": "python",
   "name": "python3"
  },
  "language_info": {
   "codemirror_mode": {
    "name": "ipython",
    "version": 3
   },
   "file_extension": ".py",
   "mimetype": "text/x-python",
   "name": "python",
   "nbconvert_exporter": "python",
   "pygments_lexer": "ipython3",
   "version": "3.9.7"
  }
 },
 "nbformat": 4,
 "nbformat_minor": 4
}
